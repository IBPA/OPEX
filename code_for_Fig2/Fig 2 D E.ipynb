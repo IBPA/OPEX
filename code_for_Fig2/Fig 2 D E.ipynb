{
 "cells": [
  {
   "cell_type": "code",
   "execution_count": 1,
   "metadata": {},
   "outputs": [],
   "source": [
    "import pandas as pd\n",
    "from glob import glob\n",
    "import matplotlib.pyplot as plt\n",
    "import matplotlib\n",
    "import numpy as np\n",
    "import warnings\n",
    "warnings.filterwarnings(\"ignore\")\n",
    "\n",
    "\n",
    "font = {'family': 'normal',\n",
    "        'size': 8}\n",
    "matplotlib.rc('font', **font)\n",
    "matplotlib.rcParams['axes.linewidth'] = 0.2\n",
    "matplotlib.rcParams['xtick.major.width'] = 0.2\n",
    "matplotlib.rcParams['ytick.major.width'] = 0.2\n",
    "matplotlib.rcParams['axes.linewidth'] = 0.2"
   ]
  },
  {
   "cell_type": "code",
   "execution_count": 2,
   "metadata": {},
   "outputs": [],
   "source": [
    "data_dir = \"../../out_data/distance_evolution\"\n",
    "file_paths = glob(data_dir + \"/*.csv\")\n",
    "file_paths = [fp for fp in file_paths if fp.split(\"/\")[-1][:-4] != \"dist_all\" ]\n",
    "file_paths.sort()"
   ]
  },
  {
   "cell_type": "code",
   "execution_count": 3,
   "metadata": {
    "scrolled": true
   },
   "outputs": [],
   "source": [
    "def plot_three(paths, save_path):\n",
    "    dfs = [pd.read_csv(fp) for fp in paths]\n",
    "    means = [df.mean(axis=0) for df in dfs]\n",
    "    dfs = [df.transpose() for df in dfs]\n",
    "    methods = [fp.split(\"/\")[-1][:-4] for fp in paths]\n",
    "\n",
    "    # panel 1    \n",
    "    plt.figure(figsize=(14, 3))\n",
    "    i = 0\n",
    "    ax1 = plt.subplot(131)\n",
    "    bp = plt.boxplot(dfs[i],patch_artist=True)# widths = 0.1)\n",
    "    plt.xticks(range(0,31,5), range(0,31,5))\n",
    "    #plt.xlabel(\"Order of selected samples\\na\")\n",
    "    plt.ylabel(\"Distance between consecutive points\")\n",
    "    plt.title(methods[i])\n",
    "    ax1.set_xlim(-1, 31)\n",
    "    plt.axhline(y=np.mean(dfs[i].values), color='r', linestyle='--', linewidth=0.5)\n",
    "\n",
    "    elements = bp.keys()\n",
    "    for element in elements:\n",
    "        for box in bp[element]:\n",
    "            box.set(linewidth = 0.4, color=\"#BC9FA8\")\n",
    "\n",
    "    plt.setp(bp['fliers'], marker='.',markersize=1)\n",
    "\n",
    "        \n",
    "    # plot a fitting line    \n",
    "    dist_mean = np.median(dfs[0], axis = 1)\n",
    "    turning_point = 10\n",
    "    \n",
    "    # plot the first half \n",
    "    x = np.array([i+0 for i in range(len(dist_mean[:turning_point]))])\n",
    "    y = dist_mean[:turning_point]\n",
    "    m, b = np.polyfit(x, y, 1)\n",
    "    plt.plot(x+1, x*m + b,color='k', linewidth = 0.6)\n",
    "    \n",
    "    x = np.array([i+0 for i in range(len(dist_mean[turning_point:]))])\n",
    "    y = dist_mean[turning_point:]\n",
    "    m, b = np.polyfit(x, y, 1)\n",
    "    plt.plot(x+turning_point+1, x*m + b,color='k', linewidth = 0.6)\n",
    "\n",
    "    # panel 2\n",
    "    i = 1  \n",
    "    ax2 = plt.subplot(132, sharey = ax1)\n",
    "    bp = plt.boxplot(dfs[i],patch_artist=True)\n",
    "    plt.xticks(range(0,31,5), range(0,31,5))\n",
    "    #plt.xlabel(\"Order of selected samples\\nb\")\n",
    "    plt.title(methods[i])\n",
    "    ax2.set_xlim(-1, 31)\n",
    "\n",
    "    elements = bp.keys()\n",
    "    for element in elements:\n",
    "        for box in bp[element]:\n",
    "            box.set(linewidth = 0.4, color=\"#39B071\")\n",
    "\n",
    "    plt.setp(bp['fliers'], marker='.',markersize=1)\n",
    "\n",
    "    \n",
    "    plt.axhline(y=np.mean(dfs[i].values), color='r', linestyle='--', linewidth=0.5)\n",
    "\n",
    "    # plot the fitting line\n",
    "    dist_mean = np.median(dfs[1], axis = 1)\n",
    "    turning_point = 10\n",
    "    \n",
    "    # plot the first half \n",
    "    x = np.array([i+0 for i in range(len(dist_mean[:turning_point]))])\n",
    "    y = dist_mean[:turning_point]\n",
    "    m, b = np.polyfit(x, y, 1)\n",
    "    plt.plot(x+1, x*m + b,color='k', linewidth = 0.6)\n",
    "    \n",
    "    x = np.array([i+0 for i in range(len(dist_mean[turning_point:]))])\n",
    "    y = dist_mean[turning_point:]\n",
    "    m, b = np.polyfit(x, y, 1)\n",
    "    plt.plot(x+turning_point+1, x*m + b,color='k',  linewidth = 0.6)\n",
    "    \n",
    "    #panel 3\n",
    "    i=2\n",
    "    ax3 = plt.subplot(133, sharey = ax2)\n",
    "    bp = plt.boxplot(dfs[i],patch_artist=True)\n",
    "    plt.xticks(range(0,31,5), range(0,31,5))\n",
    "    #plt.xlabel(\"Order of selected samples\\nc\")\n",
    "    plt.title(methods[i])\n",
    "    ax3.set_xlim(-1, 31)\n",
    "    plt.axhline(y=np.mean(dfs[i].values), color='r', linestyle='--', linewidth=0.5)\n",
    "\n",
    "    elements = bp.keys()\n",
    "    for element in elements:\n",
    "        for box in bp[element]:\n",
    "            box.set(linewidth = 0.4, color=\"#E0BB28\")\n",
    "\n",
    "    plt.setp(bp['fliers'], marker='.',markersize=1)\n",
    "    plt.savefig(save_path,bbox_inches='tight')\n",
    "    plt.show()\n",
    "    plt.close()\n",
    "    plt.clf()\n",
    "    return dfs"
   ]
  },
  {
   "cell_type": "code",
   "execution_count": 4,
   "metadata": {
    "scrolled": true
   },
   "outputs": [
    {
     "name": "stderr",
     "output_type": "stream",
     "text": [
      "findfont: Font family ['normal'] not found. Falling back to DejaVu Sans.\n",
      "findfont: Font family ['normal'] not found. Falling back to DejaVu Sans.\n"
     ]
    },
    {
     "data": {
      "image/png": "[encoded data removed]",
      "text/plain": [
       "<Figure size 1008x216 with 3 Axes>"
      ]
     },
     "metadata": {
      "needs_background": "light"
     },
     "output_type": "display_data"
    },
    {
     "data": {
      "text/plain": [
       "<Figure size 432x288 with 0 Axes>"
      ]
     },
     "metadata": {},
     "output_type": "display_data"
    }
   ],
   "source": [
    "paths = [fp  for fp in file_paths if \"every_2\" in fp or \"Random\" in fp]\n",
    "save_path = \"../../out_fig/distance_evolve/distance_evolve_not_PC.pdf\"\n",
    "dfs = plot_three(paths, save_path)"
   ]
  },
  {
   "cell_type": "code",
   "execution_count": 5,
   "metadata": {},
   "outputs": [
    {
     "data": {
      "text/plain": [
       "['../../out_data/distance_evolution/EN_every_1.csv',\n",
       " '../../out_data/distance_evolution/EN_every_2.csv',\n",
       " '../../out_data/distance_evolution/EN_every_3.csv',\n",
       " '../../out_data/distance_evolution/MI_every_1.csv',\n",
       " '../../out_data/distance_evolution/MI_every_2.csv',\n",
       " '../../out_data/distance_evolution/MI_every_3.csv',\n",
       " '../../out_data/distance_evolution/Random.csv']"
      ]
     },
     "execution_count": 5,
     "metadata": {},
     "output_type": "execute_result"
    }
   ],
   "source": [
    "file_paths"
   ]
  }
 ],
 "metadata": {
  "kernelspec": {
   "display_name": "Python 3",
   "language": "python",
   "name": "python3"
  },
  "language_info": {
   "codemirror_mode": {
    "name": "ipython",
    "version": 3
   },
   "file_extension": ".py",
   "mimetype": "text/x-python",
   "name": "python",
   "nbconvert_exporter": "python",
   "pygments_lexer": "ipython3",
   "version": "3.6.10"
  }
 },
 "nbformat": 4,
 "nbformat_minor": 2
}
